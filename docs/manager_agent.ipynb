{
 "cells": [
  {
   "cell_type": "code",
   "execution_count": 23,
   "id": "9a468f36",
   "metadata": {},
   "outputs": [],
   "source": [
    "import os\n",
    "from smolagents import CodeAgent, DuckDuckGoSearchTool, LiteLLMModel,InferenceClientModel, OpenAIServerModel\n",
    "from langchain_community.document_loaders import WikipediaLoader\n",
    "from smolagents import tool\n",
    "from selenium import webdriver\n",
    "from selenium.webdriver.common.by import By\n",
    "from selenium.webdriver.common.keys import Keys\n",
    "import helium\n",
    "\n",
    "# Configure Chrome options\n",
    "chrome_options = webdriver.ChromeOptions()\n",
    "chrome_options.add_argument(\"--force-device-scale-factor=1\")\n",
    "chrome_options.add_argument(\"--window-size=1000,1350\")\n",
    "chrome_options.add_argument(\"--disable-pdf-viewer\")\n",
    "chrome_options.add_argument(\"--window-position=0,0\")\n",
    "\n",
    "# Initialize the browser\n",
    "driver = helium.start_chrome(headless=False, options=chrome_options)\n",
    "\n",
    "\n",
    "haiku = 'anthropic/claude-3-5-haiku-20241022'\n",
    "sonnet = 'anthropic/claude-sonnet-4-20250514'\n",
    "\n",
    "# claude model\n",
    "model = LiteLLMModel(\n",
    "    model_id = haiku,\n",
    "    api_key=os.environ['CLAUDE_API']\n",
    ")\n"
   ]
  },
  {
   "cell_type": "code",
   "execution_count": 24,
   "id": "9fba0d43",
   "metadata": {},
   "outputs": [],
   "source": [
    "# wiki search\n",
    "@tool\n",
    "def wiki_search(query: str) -> str:\n",
    "    \"\"\"Search Wikipedia for a query and return maximum 2 results.\n",
    "    \n",
    "    Args:\n",
    "        query: The search query.\"\"\"\n",
    "    search_docs = WikipediaLoader(query=query, load_max_docs=2).load()\n",
    "    formatted_search_docs = \"\\n\\n---\\n\\n\".join(\n",
    "        [\n",
    "            f'<Document source=\"{doc.metadata[\"source\"]}\" page=\"{doc.metadata.get(\"page\", \"\")}\"/>\\n{doc.page_content}\\n</Document>'\n",
    "            for doc in search_docs\n",
    "        ])\n",
    "    return {\"wiki_results\": formatted_search_docs}\n",
    "\n",
    "# duckduck\n",
    "duckduckseach = DuckDuckGoSearchTool()\n",
    "\n",
    "# selenium\n",
    "# @tool\n",
    "# def open_browser():\n",
    "#     driver = helium.start_chrome(headless=False, options=chrome_options)\n",
    "\n",
    "@tool\n",
    "def search_item_ctrl_f(text: str, nth_result: int = 1) -> str:\n",
    "    \"\"\"\n",
    "    Searches for text on the current page via Ctrl + F and jumps to the nth occurrence.\n",
    "    Args:\n",
    "        text: The text to search for\n",
    "        nth_result: Which occurrence to jump to (default: 1)\n",
    "    \"\"\"\n",
    "    elements = driver.find_elements(By.XPATH, f\"//*[contains(text(), '{text}')]\")\n",
    "    if nth_result > len(elements):\n",
    "        raise Exception(f\"Match n°{nth_result} not found (only {len(elements)} matches found)\")\n",
    "    result = f\"Found {len(elements)} matches for '{text}'.\"\n",
    "    elem = elements[nth_result - 1]\n",
    "    driver.execute_script(\"arguments[0].scrollIntoView(true);\", elem)\n",
    "    result += f\"Focused on element {nth_result} of {len(elements)}\"\n",
    "    return result\n",
    "\n",
    "\n",
    "@tool\n",
    "def go_back() -> None:\n",
    "    \"\"\"Goes back to previous page.\"\"\"\n",
    "    driver.back()\n",
    "\n",
    "\n",
    "@tool\n",
    "def close_popups() -> str:\n",
    "    \"\"\"\n",
    "    Closes any visible modal or pop-up on the page. Use this to dismiss pop-up windows! This does not work on cookie consent banners.\n",
    "    \"\"\"\n",
    "    webdriver.ActionChains(driver).send_keys(Keys.ESCAPE).perform()\n"
   ]
  },
  {
   "cell_type": "code",
   "execution_count": 26,
   "id": "9b7df9f0",
   "metadata": {},
   "outputs": [],
   "source": [
    "tools_list = [wiki_search, duckduckseach, close_popups, go_back, search_item_ctrl_f]\n",
    "\n",
    "flight_agent = CodeAgent(\n",
    "    model=model,\n",
    "    tools = tools_list,\n",
    "    additional_authorized_imports=['numpy', 'helium'],\n",
    "    max_steps=2\n",
    ")"
   ]
  },
  {
   "cell_type": "code",
   "execution_count": null,
   "id": "a3b3cb2c",
   "metadata": {},
   "outputs": [
    {
     "data": {
      "text/html": [
       "<pre style=\"white-space:pre;overflow-x:auto;line-height:normal;font-family:Menlo,'DejaVu Sans Mono',consolas,'Courier New',monospace\"><span style=\"color: #d4b702; text-decoration-color: #d4b702\">╭──────────────────────────────────────────────────── </span><span style=\"color: #d4b702; text-decoration-color: #d4b702; font-weight: bold\">New run</span><span style=\"color: #d4b702; text-decoration-color: #d4b702\"> ────────────────────────────────────────────────────╮</span>\n",
       "<span style=\"color: #d4b702; text-decoration-color: #d4b702\">│</span>                                                                                                                 <span style=\"color: #d4b702; text-decoration-color: #d4b702\">│</span>\n",
       "<span style=\"color: #d4b702; text-decoration-color: #d4b702\">│</span> <span style=\"font-weight: bold\">You are a helpful assistant tasked with planning travels for user. You should look in google flight for flights</span> <span style=\"color: #d4b702; text-decoration-color: #d4b702\">│</span>\n",
       "<span style=\"color: #d4b702; text-decoration-color: #d4b702\">│</span> <span style=\"font-weight: bold\">corresponding to some constrains. </span>                                                                              <span style=\"color: #d4b702; text-decoration-color: #d4b702\">│</span>\n",
       "<span style=\"color: #d4b702; text-decoration-color: #d4b702\">│</span> <span style=\"font-weight: bold\">Your output should follow the template</span>                                                                          <span style=\"color: #d4b702; text-decoration-color: #d4b702\">│</span>\n",
       "<span style=\"color: #d4b702; text-decoration-color: #d4b702\">│</span> <span style=\"font-weight: bold\">Dates = [dates\\],</span>                                                                                               <span style=\"color: #d4b702; text-decoration-color: #d4b702\">│</span>\n",
       "<span style=\"color: #d4b702; text-decoration-color: #d4b702\">│</span> <span style=\"font-weight: bold\">budget = [budget\\],</span>                                                                                             <span style=\"color: #d4b702; text-decoration-color: #d4b702\">│</span>\n",
       "<span style=\"color: #d4b702; text-decoration-color: #d4b702\">│</span> <span style=\"font-weight: bold\">link = [link to google flight corresponding to the flight\\]</span>                                                     <span style=\"color: #d4b702; text-decoration-color: #d4b702\">│</span>\n",
       "<span style=\"color: #d4b702; text-decoration-color: #d4b702\">│</span>                                                                                                                 <span style=\"color: #d4b702; text-decoration-color: #d4b702\">│</span>\n",
       "<span style=\"color: #d4b702; text-decoration-color: #d4b702\">│</span> <span style=\"font-weight: bold\">Find me a flight to barcelona from Paris between the 24 and 26 of june 2025 for a budget less than 300 euros.</span>   <span style=\"color: #d4b702; text-decoration-color: #d4b702\">│</span>\n",
       "<span style=\"color: #d4b702; text-decoration-color: #d4b702\">│</span>                                                                                                                 <span style=\"color: #d4b702; text-decoration-color: #d4b702\">│</span>\n",
       "<span style=\"color: #d4b702; text-decoration-color: #d4b702\">╰─ LiteLLMModel - anthropic/claude-3-5-haiku-20241022 ────────────────────────────────────────────────────────────╯</span>\n",
       "</pre>\n"
      ],
      "text/plain": [
       "\u001b[38;2;212;183;2m╭─\u001b[0m\u001b[38;2;212;183;2m───────────────────────────────────────────────────\u001b[0m\u001b[38;2;212;183;2m \u001b[0m\u001b[1;38;2;212;183;2mNew run\u001b[0m\u001b[38;2;212;183;2m \u001b[0m\u001b[38;2;212;183;2m───────────────────────────────────────────────────\u001b[0m\u001b[38;2;212;183;2m─╮\u001b[0m\n",
       "\u001b[38;2;212;183;2m│\u001b[0m                                                                                                                 \u001b[38;2;212;183;2m│\u001b[0m\n",
       "\u001b[38;2;212;183;2m│\u001b[0m \u001b[1mYou are a helpful assistant tasked with planning travels for user. You should look in google flight for flights\u001b[0m \u001b[38;2;212;183;2m│\u001b[0m\n",
       "\u001b[38;2;212;183;2m│\u001b[0m \u001b[1mcorresponding to some constrains. \u001b[0m                                                                              \u001b[38;2;212;183;2m│\u001b[0m\n",
       "\u001b[38;2;212;183;2m│\u001b[0m \u001b[1mYour output should follow the template\u001b[0m                                                                          \u001b[38;2;212;183;2m│\u001b[0m\n",
       "\u001b[38;2;212;183;2m│\u001b[0m \u001b[1mDates = [dates\\],\u001b[0m                                                                                               \u001b[38;2;212;183;2m│\u001b[0m\n",
       "\u001b[38;2;212;183;2m│\u001b[0m \u001b[1mbudget = [budget\\],\u001b[0m                                                                                             \u001b[38;2;212;183;2m│\u001b[0m\n",
       "\u001b[38;2;212;183;2m│\u001b[0m \u001b[1mlink = [link to google flight corresponding to the flight\\]\u001b[0m                                                     \u001b[38;2;212;183;2m│\u001b[0m\n",
       "\u001b[38;2;212;183;2m│\u001b[0m                                                                                                                 \u001b[38;2;212;183;2m│\u001b[0m\n",
       "\u001b[38;2;212;183;2m│\u001b[0m \u001b[1mFind me a flight to barcelona from Paris between the 24 and 26 of june 2025 for a budget less than 300 euros.\u001b[0m   \u001b[38;2;212;183;2m│\u001b[0m\n",
       "\u001b[38;2;212;183;2m│\u001b[0m                                                                                                                 \u001b[38;2;212;183;2m│\u001b[0m\n",
       "\u001b[38;2;212;183;2m╰─\u001b[0m\u001b[38;2;212;183;2m LiteLLMModel - anthropic/claude-3-5-haiku-20241022 \u001b[0m\u001b[38;2;212;183;2m───────────────────────────────────────────────────────────\u001b[0m\u001b[38;2;212;183;2m─╯\u001b[0m\n"
      ]
     },
     "metadata": {},
     "output_type": "display_data"
    },
    {
     "data": {
      "text/html": [
       "<pre style=\"white-space:pre;overflow-x:auto;line-height:normal;font-family:Menlo,'DejaVu Sans Mono',consolas,'Courier New',monospace\"><span style=\"color: #d4b702; text-decoration-color: #d4b702\">━━━━━━━━━━━━━━━━━━━━━━━━━━━━━━━━━━━━━━━━━━━━━━━━━━━━━ </span><span style=\"font-weight: bold\">Step </span><span style=\"color: #008080; text-decoration-color: #008080; font-weight: bold\">1</span><span style=\"color: #d4b702; text-decoration-color: #d4b702\"> ━━━━━━━━━━━━━━━━━━━━━━━━━━━━━━━━━━━━━━━━━━━━━━━━━━━━━━</span>\n",
       "</pre>\n"
      ],
      "text/plain": [
       "\u001b[38;2;212;183;2m━━━━━━━━━━━━━━━━━━━━━━━━━━━━━━━━━━━━━━━━━━━━━━━━━━━━━ \u001b[0m\u001b[1mStep \u001b[0m\u001b[1;36m1\u001b[0m\u001b[38;2;212;183;2m ━━━━━━━━━━━━━━━━━━━━━━━━━━━━━━━━━━━━━━━━━━━━━━━━━━━━━━\u001b[0m\n"
      ]
     },
     "metadata": {},
     "output_type": "display_data"
    },
    {
     "data": {
      "text/html": [
       "<pre style=\"white-space:pre;overflow-x:auto;line-height:normal;font-family:Menlo,'DejaVu Sans Mono',consolas,'Courier New',monospace\"> ─ <span style=\"font-weight: bold\">Executing parsed code:</span> ──────────────────────────────────────────────────────────────────────────────────────── \n",
       "  <span style=\"color: #f8f8f2; text-decoration-color: #f8f8f2; background-color: #272822\">search_query </span><span style=\"color: #ff4689; text-decoration-color: #ff4689; background-color: #272822\">=</span><span style=\"color: #f8f8f2; text-decoration-color: #f8f8f2; background-color: #272822\"> </span><span style=\"color: #e6db74; text-decoration-color: #e6db74; background-color: #272822\">\"flights from Paris to Barcelona June 24-26 2025 under 300 euros google flights\"</span><span style=\"background-color: #272822\">                </span>  \n",
       "  <span style=\"color: #f8f8f2; text-decoration-color: #f8f8f2; background-color: #272822\">flight_search_results </span><span style=\"color: #ff4689; text-decoration-color: #ff4689; background-color: #272822\">=</span><span style=\"color: #f8f8f2; text-decoration-color: #f8f8f2; background-color: #272822\"> web_search(query</span><span style=\"color: #ff4689; text-decoration-color: #ff4689; background-color: #272822\">=</span><span style=\"color: #f8f8f2; text-decoration-color: #f8f8f2; background-color: #272822\">search_query)</span><span style=\"background-color: #272822\">                                                         </span>  \n",
       "  <span style=\"color: #f8f8f2; text-decoration-color: #f8f8f2; background-color: #272822\">print(flight_search_results)</span><span style=\"background-color: #272822\">                                                                                   </span>  \n",
       " ───────────────────────────────────────────────────────────────────────────────────────────────────────────────── \n",
       "</pre>\n"
      ],
      "text/plain": [
       " ─ \u001b[1mExecuting parsed code:\u001b[0m ──────────────────────────────────────────────────────────────────────────────────────── \n",
       "  \u001b[38;2;248;248;242;48;2;39;40;34msearch_query\u001b[0m\u001b[38;2;248;248;242;48;2;39;40;34m \u001b[0m\u001b[38;2;255;70;137;48;2;39;40;34m=\u001b[0m\u001b[38;2;248;248;242;48;2;39;40;34m \u001b[0m\u001b[38;2;230;219;116;48;2;39;40;34m\"\u001b[0m\u001b[38;2;230;219;116;48;2;39;40;34mflights from Paris to Barcelona June 24-26 2025 under 300 euros google flights\u001b[0m\u001b[38;2;230;219;116;48;2;39;40;34m\"\u001b[0m\u001b[48;2;39;40;34m                \u001b[0m  \n",
       "  \u001b[38;2;248;248;242;48;2;39;40;34mflight_search_results\u001b[0m\u001b[38;2;248;248;242;48;2;39;40;34m \u001b[0m\u001b[38;2;255;70;137;48;2;39;40;34m=\u001b[0m\u001b[38;2;248;248;242;48;2;39;40;34m \u001b[0m\u001b[38;2;248;248;242;48;2;39;40;34mweb_search\u001b[0m\u001b[38;2;248;248;242;48;2;39;40;34m(\u001b[0m\u001b[38;2;248;248;242;48;2;39;40;34mquery\u001b[0m\u001b[38;2;255;70;137;48;2;39;40;34m=\u001b[0m\u001b[38;2;248;248;242;48;2;39;40;34msearch_query\u001b[0m\u001b[38;2;248;248;242;48;2;39;40;34m)\u001b[0m\u001b[48;2;39;40;34m                                                         \u001b[0m  \n",
       "  \u001b[38;2;248;248;242;48;2;39;40;34mprint\u001b[0m\u001b[38;2;248;248;242;48;2;39;40;34m(\u001b[0m\u001b[38;2;248;248;242;48;2;39;40;34mflight_search_results\u001b[0m\u001b[38;2;248;248;242;48;2;39;40;34m)\u001b[0m\u001b[48;2;39;40;34m                                                                                   \u001b[0m  \n",
       " ───────────────────────────────────────────────────────────────────────────────────────────────────────────────── \n"
      ]
     },
     "metadata": {},
     "output_type": "display_data"
    },
    {
     "data": {
      "text/html": [
       "<pre style=\"white-space:pre;overflow-x:auto;line-height:normal;font-family:Menlo,'DejaVu Sans Mono',consolas,'Courier New',monospace\"><span style=\"font-weight: bold\">Execution logs:</span>\n",
       "## Search Results\n",
       "\n",
       "[Google Flights - Find Cheap Flight Options &amp; Track Prices](https://www.google.com/travel/flights)\n",
       "Use Google Flights to explore cheap flights to anywhere. Search destinations and track prices to find and book your\n",
       "next flight.\n",
       "\n",
       "[$17 Flights from Paris (PARI) to Barcelona (BCN) | \n",
       "Skyscanner](https://www.skyscanner.com/routes/pari/bcn/paris-to-barcelona.html)\n",
       "It looks like Paris to Barcelona flights are currently cheapest in August. Jun. from $32. Jul. from $37. Aug. from \n",
       "$17. Sep. from $17. Oct. from $32. Nov. from $32. Dec. from $45. Jan. from $45. Feb. from $46. Mar. from $46. Apr. \n",
       "from $64. May. ... There are 713 flights per week flying from Paris to Barcelona, as of June 2025.\n",
       "\n",
       "[$47 CHEAP FLIGHTS from Paris to Barcelona (PAR - BCN) - \n",
       "KAYAK](https://www.kayak.com/flight-routes/Paris-PAR/Barcelona-El-Prat-BCN)\n",
       "Find flights to Barcelona from $47. Fly from Paris on Vueling, Transavia France and more. ... there are between 23 \n",
       "and 26 nonstop flights that take off from Paris and land in Barcelona-El Prat Airport, with an average flight time \n",
       "of 1h 44m. The most common departure time is 9:00 am and most flights take off in the morning. ... 24/7. Do Paris \n",
       "...\n",
       "\n",
       "[$47+ Flights from Paris to Barcelona-El Prat Airport | \n",
       "Cheapflights](https://www.cheapflights.com/flights-to-barcelona-intl/paris/)\n",
       "Customize your flight search to find flights from Paris to Barcelona-El Prat that fit within your specific budget. \n",
       "Explore options based on user searches and filter the results based on your desired price range. Find flights that \n",
       "match your budget for a cost-effective journey. Over the last 7 days, Cheapflights users made 2,558,603 searches.\n",
       "\n",
       "[$47 Cheap Flights from Paris to Barcelona in 2025 | momondo](https://www.momondo.com/flights/paris/barcelona)\n",
       "Search and compare airfare from 1000+ airlines and travel sites to get the cheapest flights from Paris to Barcelona\n",
       "with momondo. ... Sep 22 - Wed, Sep 24. 10:35 am - 12:30 pm CDG-BCN. 1h 55m nonstop. 7:25 am - 9:25 am BCN-CDG. 2h \n",
       "00m nonstop. $85 Vueling. Find Deal. ... There are 4 operators available for flights from Paris to Barcelona as of \n",
       "...\n",
       "\n",
       "[Cheap flights from Paris to Barcelona from $42 - \n",
       "Kiwi.com](https://www.kiwi.com/us/cheap-flights/paris-france/barcelona-spain/)\n",
       "The distance between Paris and Barcelona is 908 km. The most popular airlines for this route are Vueling, Air \n",
       "France, Ryanair, Iberia Airlines, and Turkish Airlines. Paris and Barcelona have 400 direct flights per week. When \n",
       "you arrive at Barcelona, consider visiting Camp Nou, Sagrada Familia, Museu Picasso - Barcelona, and Teatre-Museu \n",
       "Dalí.\n",
       "\n",
       "[Cheap Flights from Paris (PARI) to Barcelona \n",
       "(BCN)](https://www.skyscanner.net/routes/pari/bcn/paris-to-barcelona.html)\n",
       "Compare cheap flights and find tickets from Paris (PARI) to Barcelona (BCN). Book directly with no added fees. ... \n",
       "As of June 2025, there are 820 flights per week flying from Paris to Barcelona. ... (about £7.95). A cheaper option\n",
       "is the local bus, route 46, which stops at both terminals and takes just under an hour to reach the city centre ...\n",
       "\n",
       "[Cheap Flights from Paris to Barcelona 2025 (PAR - \n",
       "Trip.com](https://www.trip.com/flights/paris-to-barcelona/airfares-par-bcn/)\n",
       "Book one-way or round-trip flights from Paris to Barcelona operated by popular airlines with latest luggage &amp; \n",
       "cancellation policy information! ... Tap \"Date\" on flight search bar to scan through the calender for Paris to \n",
       "Barcelona airfare over next 6 months in 2025. If you would like to fly in next 3 months, it seems the cheapest date\n",
       "is on Tue ...\n",
       "\n",
       "[Direct flights from Paris to Barcelona - \n",
       "FlightConnections](https://www.flightconnections.com/flights-from-cdg-to-bcn)\n",
       "All direct (non-stop) flights from Paris to Barcelona. See airlines, aircrafts, flight time and distance, flight \n",
       "schedules and timetables. ... There are 71 flights per week flying from Paris to Barcelona (as of June 2025). ... \n",
       "Aircraft types that fly from Paris to Barcelona: Airbus A220-300; Airbus A318; Airbus A319; Airbus A320 (sharklets)\n",
       "\n",
       "[$60 Cheap Flights from Paris to Barcelona in 2025 | \n",
       "Skyscanner](https://www.skyscanner.com.au/routes/pari/bcn/paris-to-barcelona.html)\n",
       "Find more information about flights to Barcelona Airport. Other important information to note: Time difference \n",
       "between Paris and Barcelona - There is no time difference between the two cities. Consumer price differences \n",
       "between Paris and Barcelona - Barcelona is, on average, a cheaper city in which to live and travel than Paris. \n",
       "Eating out at ...\n",
       "\n",
       "Out: None\n",
       "</pre>\n"
      ],
      "text/plain": [
       "\u001b[1mExecution logs:\u001b[0m\n",
       "## Search Results\n",
       "\n",
       "[Google Flights - Find Cheap Flight Options & Track Prices](https://www.google.com/travel/flights)\n",
       "Use Google Flights to explore cheap flights to anywhere. Search destinations and track prices to find and book your\n",
       "next flight.\n",
       "\n",
       "[$17 Flights from Paris (PARI) to Barcelona (BCN) | \n",
       "Skyscanner](https://www.skyscanner.com/routes/pari/bcn/paris-to-barcelona.html)\n",
       "It looks like Paris to Barcelona flights are currently cheapest in August. Jun. from $32. Jul. from $37. Aug. from \n",
       "$17. Sep. from $17. Oct. from $32. Nov. from $32. Dec. from $45. Jan. from $45. Feb. from $46. Mar. from $46. Apr. \n",
       "from $64. May. ... There are 713 flights per week flying from Paris to Barcelona, as of June 2025.\n",
       "\n",
       "[$47 CHEAP FLIGHTS from Paris to Barcelona (PAR - BCN) - \n",
       "KAYAK](https://www.kayak.com/flight-routes/Paris-PAR/Barcelona-El-Prat-BCN)\n",
       "Find flights to Barcelona from $47. Fly from Paris on Vueling, Transavia France and more. ... there are between 23 \n",
       "and 26 nonstop flights that take off from Paris and land in Barcelona-El Prat Airport, with an average flight time \n",
       "of 1h 44m. The most common departure time is 9:00 am and most flights take off in the morning. ... 24/7. Do Paris \n",
       "...\n",
       "\n",
       "[$47+ Flights from Paris to Barcelona-El Prat Airport | \n",
       "Cheapflights](https://www.cheapflights.com/flights-to-barcelona-intl/paris/)\n",
       "Customize your flight search to find flights from Paris to Barcelona-El Prat that fit within your specific budget. \n",
       "Explore options based on user searches and filter the results based on your desired price range. Find flights that \n",
       "match your budget for a cost-effective journey. Over the last 7 days, Cheapflights users made 2,558,603 searches.\n",
       "\n",
       "[$47 Cheap Flights from Paris to Barcelona in 2025 | momondo](https://www.momondo.com/flights/paris/barcelona)\n",
       "Search and compare airfare from 1000+ airlines and travel sites to get the cheapest flights from Paris to Barcelona\n",
       "with momondo. ... Sep 22 - Wed, Sep 24. 10:35 am - 12:30 pm CDG-BCN. 1h 55m nonstop. 7:25 am - 9:25 am BCN-CDG. 2h \n",
       "00m nonstop. $85 Vueling. Find Deal. ... There are 4 operators available for flights from Paris to Barcelona as of \n",
       "...\n",
       "\n",
       "[Cheap flights from Paris to Barcelona from $42 - \n",
       "Kiwi.com](https://www.kiwi.com/us/cheap-flights/paris-france/barcelona-spain/)\n",
       "The distance between Paris and Barcelona is 908 km. The most popular airlines for this route are Vueling, Air \n",
       "France, Ryanair, Iberia Airlines, and Turkish Airlines. Paris and Barcelona have 400 direct flights per week. When \n",
       "you arrive at Barcelona, consider visiting Camp Nou, Sagrada Familia, Museu Picasso - Barcelona, and Teatre-Museu \n",
       "Dalí.\n",
       "\n",
       "[Cheap Flights from Paris (PARI) to Barcelona \n",
       "(BCN)](https://www.skyscanner.net/routes/pari/bcn/paris-to-barcelona.html)\n",
       "Compare cheap flights and find tickets from Paris (PARI) to Barcelona (BCN). Book directly with no added fees. ... \n",
       "As of June 2025, there are 820 flights per week flying from Paris to Barcelona. ... (about £7.95). A cheaper option\n",
       "is the local bus, route 46, which stops at both terminals and takes just under an hour to reach the city centre ...\n",
       "\n",
       "[Cheap Flights from Paris to Barcelona 2025 (PAR - \n",
       "Trip.com](https://www.trip.com/flights/paris-to-barcelona/airfares-par-bcn/)\n",
       "Book one-way or round-trip flights from Paris to Barcelona operated by popular airlines with latest luggage & \n",
       "cancellation policy information! ... Tap \"Date\" on flight search bar to scan through the calender for Paris to \n",
       "Barcelona airfare over next 6 months in 2025. If you would like to fly in next 3 months, it seems the cheapest date\n",
       "is on Tue ...\n",
       "\n",
       "[Direct flights from Paris to Barcelona - \n",
       "FlightConnections](https://www.flightconnections.com/flights-from-cdg-to-bcn)\n",
       "All direct (non-stop) flights from Paris to Barcelona. See airlines, aircrafts, flight time and distance, flight \n",
       "schedules and timetables. ... There are 71 flights per week flying from Paris to Barcelona (as of June 2025). ... \n",
       "Aircraft types that fly from Paris to Barcelona: Airbus A220-300; Airbus A318; Airbus A319; Airbus A320 (sharklets)\n",
       "\n",
       "[$60 Cheap Flights from Paris to Barcelona in 2025 | \n",
       "Skyscanner](https://www.skyscanner.com.au/routes/pari/bcn/paris-to-barcelona.html)\n",
       "Find more information about flights to Barcelona Airport. Other important information to note: Time difference \n",
       "between Paris and Barcelona - There is no time difference between the two cities. Consumer price differences \n",
       "between Paris and Barcelona - Barcelona is, on average, a cheaper city in which to live and travel than Paris. \n",
       "Eating out at ...\n",
       "\n",
       "Out: None\n"
      ]
     },
     "metadata": {},
     "output_type": "display_data"
    },
    {
     "data": {
      "text/html": [
       "<pre style=\"white-space:pre;overflow-x:auto;line-height:normal;font-family:Menlo,'DejaVu Sans Mono',consolas,'Courier New',monospace\"><span style=\"color: #7f7f7f; text-decoration-color: #7f7f7f\">[Step 1: Duration 4.14 seconds| Input tokens: 2,647 | Output tokens: 92]</span>\n",
       "</pre>\n"
      ],
      "text/plain": [
       "\u001b[2m[Step 1: Duration 4.14 seconds| Input tokens: 2,647 | Output tokens: 92]\u001b[0m\n"
      ]
     },
     "metadata": {},
     "output_type": "display_data"
    },
    {
     "data": {
      "text/html": [
       "<pre style=\"white-space:pre;overflow-x:auto;line-height:normal;font-family:Menlo,'DejaVu Sans Mono',consolas,'Courier New',monospace\"><span style=\"color: #d4b702; text-decoration-color: #d4b702\">━━━━━━━━━━━━━━━━━━━━━━━━━━━━━━━━━━━━━━━━━━━━━━━━━━━━━ </span><span style=\"font-weight: bold\">Step </span><span style=\"color: #008080; text-decoration-color: #008080; font-weight: bold\">2</span><span style=\"color: #d4b702; text-decoration-color: #d4b702\"> ━━━━━━━━━━━━━━━━━━━━━━━━━━━━━━━━━━━━━━━━━━━━━━━━━━━━━━</span>\n",
       "</pre>\n"
      ],
      "text/plain": [
       "\u001b[38;2;212;183;2m━━━━━━━━━━━━━━━━━━━━━━━━━━━━━━━━━━━━━━━━━━━━━━━━━━━━━ \u001b[0m\u001b[1mStep \u001b[0m\u001b[1;36m2\u001b[0m\u001b[38;2;212;183;2m ━━━━━━━━━━━━━━━━━━━━━━━━━━━━━━━━━━━━━━━━━━━━━━━━━━━━━━\u001b[0m\n"
      ]
     },
     "metadata": {},
     "output_type": "display_data"
    },
    {
     "data": {
      "text/html": [
       "<pre style=\"white-space:pre;overflow-x:auto;line-height:normal;font-family:Menlo,'DejaVu Sans Mono',consolas,'Courier New',monospace\"> ─ <span style=\"font-weight: bold\">Executing parsed code:</span> ──────────────────────────────────────────────────────────────────────────────────────── \n",
       "  <span style=\"color: #ff4689; text-decoration-color: #ff4689; background-color: #272822\">from</span><span style=\"color: #f8f8f2; text-decoration-color: #f8f8f2; background-color: #272822\"> datetime </span><span style=\"color: #ff4689; text-decoration-color: #ff4689; background-color: #272822\">import</span><span style=\"color: #f8f8f2; text-decoration-color: #f8f8f2; background-color: #272822\"> datetime</span><span style=\"background-color: #272822\">                                                                                  </span>  \n",
       "  <span style=\"background-color: #272822\">                                                                                                               </span>  \n",
       "  <span style=\"color: #f8f8f2; text-decoration-color: #f8f8f2; background-color: #272822\">dates </span><span style=\"color: #ff4689; text-decoration-color: #ff4689; background-color: #272822\">=</span><span style=\"color: #f8f8f2; text-decoration-color: #f8f8f2; background-color: #272822\"> [</span><span style=\"color: #e6db74; text-decoration-color: #e6db74; background-color: #272822\">\"2025-06-24\"</span><span style=\"color: #f8f8f2; text-decoration-color: #f8f8f2; background-color: #272822\">, </span><span style=\"color: #e6db74; text-decoration-color: #e6db74; background-color: #272822\">\"2025-06-25\"</span><span style=\"color: #f8f8f2; text-decoration-color: #f8f8f2; background-color: #272822\">, </span><span style=\"color: #e6db74; text-decoration-color: #e6db74; background-color: #272822\">\"2025-06-26\"</span><span style=\"color: #f8f8f2; text-decoration-color: #f8f8f2; background-color: #272822\">]</span><span style=\"background-color: #272822\">                                                             </span>  \n",
       "  <span style=\"color: #f8f8f2; text-decoration-color: #f8f8f2; background-color: #272822\">budget </span><span style=\"color: #ff4689; text-decoration-color: #ff4689; background-color: #272822\">=</span><span style=\"color: #f8f8f2; text-decoration-color: #f8f8f2; background-color: #272822\"> </span><span style=\"color: #ae81ff; text-decoration-color: #ae81ff; background-color: #272822\">300</span><span style=\"background-color: #272822\">                                                                                                   </span>  \n",
       "  <span style=\"color: #f8f8f2; text-decoration-color: #f8f8f2; background-color: #272822\">google_flights_link </span><span style=\"color: #ff4689; text-decoration-color: #ff4689; background-color: #272822\">=</span><span style=\"color: #f8f8f2; text-decoration-color: #f8f8f2; background-color: #272822\"> </span><span style=\"background-color: #272822\">                                                                                         </span>  \n",
       "  <span style=\"color: #e6db74; text-decoration-color: #e6db74; background-color: #272822\">f\"https://www.google.com/travel/flights?q=Flights%20from%20Paris%20to%20Barcelona%20from%20{</span><span style=\"color: #f8f8f2; text-decoration-color: #f8f8f2; background-color: #272822\">dates[</span><span style=\"color: #ae81ff; text-decoration-color: #ae81ff; background-color: #272822\">0</span><span style=\"color: #f8f8f2; text-decoration-color: #f8f8f2; background-color: #272822\">]</span><span style=\"color: #e6db74; text-decoration-color: #e6db74; background-color: #272822\">}%20to%20{</span><span style=\"color: #f8f8f2; text-decoration-color: #f8f8f2; background-color: #272822\">d</span>  \n",
       "  <span style=\"color: #f8f8f2; text-decoration-color: #f8f8f2; background-color: #272822\">ates[</span><span style=\"color: #ff4689; text-decoration-color: #ff4689; background-color: #272822\">-</span><span style=\"color: #ae81ff; text-decoration-color: #ae81ff; background-color: #272822\">1</span><span style=\"color: #f8f8f2; text-decoration-color: #f8f8f2; background-color: #272822\">]</span><span style=\"color: #e6db74; text-decoration-color: #e6db74; background-color: #272822\">}%20under%20{</span><span style=\"color: #f8f8f2; text-decoration-color: #f8f8f2; background-color: #272822\">budget</span><span style=\"color: #e6db74; text-decoration-color: #e6db74; background-color: #272822\">}%20EUR\"</span><span style=\"background-color: #272822\">                                                                            </span>  \n",
       "  <span style=\"background-color: #272822\">                                                                                                               </span>  \n",
       "  <span style=\"color: #f8f8f2; text-decoration-color: #f8f8f2; background-color: #272822\">print(</span><span style=\"color: #e6db74; text-decoration-color: #e6db74; background-color: #272822\">\"Dates:\"</span><span style=\"color: #f8f8f2; text-decoration-color: #f8f8f2; background-color: #272822\">, dates)</span><span style=\"background-color: #272822\">                                                                                         </span>  \n",
       "  <span style=\"color: #f8f8f2; text-decoration-color: #f8f8f2; background-color: #272822\">print(</span><span style=\"color: #e6db74; text-decoration-color: #e6db74; background-color: #272822\">\"Budget:\"</span><span style=\"color: #f8f8f2; text-decoration-color: #f8f8f2; background-color: #272822\">, budget, </span><span style=\"color: #e6db74; text-decoration-color: #e6db74; background-color: #272822\">\"euros\"</span><span style=\"color: #f8f8f2; text-decoration-color: #f8f8f2; background-color: #272822\">)</span><span style=\"background-color: #272822\">                                                                              </span>  \n",
       "  <span style=\"color: #f8f8f2; text-decoration-color: #f8f8f2; background-color: #272822\">print(</span><span style=\"color: #e6db74; text-decoration-color: #e6db74; background-color: #272822\">\"Link:\"</span><span style=\"color: #f8f8f2; text-decoration-color: #f8f8f2; background-color: #272822\">, google_flights_link)</span><span style=\"background-color: #272822\">                                                                            </span>  \n",
       " ───────────────────────────────────────────────────────────────────────────────────────────────────────────────── \n",
       "</pre>\n"
      ],
      "text/plain": [
       " ─ \u001b[1mExecuting parsed code:\u001b[0m ──────────────────────────────────────────────────────────────────────────────────────── \n",
       "  \u001b[38;2;255;70;137;48;2;39;40;34mfrom\u001b[0m\u001b[38;2;248;248;242;48;2;39;40;34m \u001b[0m\u001b[38;2;248;248;242;48;2;39;40;34mdatetime\u001b[0m\u001b[38;2;248;248;242;48;2;39;40;34m \u001b[0m\u001b[38;2;255;70;137;48;2;39;40;34mimport\u001b[0m\u001b[38;2;248;248;242;48;2;39;40;34m \u001b[0m\u001b[38;2;248;248;242;48;2;39;40;34mdatetime\u001b[0m\u001b[48;2;39;40;34m                                                                                  \u001b[0m  \n",
       "  \u001b[48;2;39;40;34m                                                                                                               \u001b[0m  \n",
       "  \u001b[38;2;248;248;242;48;2;39;40;34mdates\u001b[0m\u001b[38;2;248;248;242;48;2;39;40;34m \u001b[0m\u001b[38;2;255;70;137;48;2;39;40;34m=\u001b[0m\u001b[38;2;248;248;242;48;2;39;40;34m \u001b[0m\u001b[38;2;248;248;242;48;2;39;40;34m[\u001b[0m\u001b[38;2;230;219;116;48;2;39;40;34m\"\u001b[0m\u001b[38;2;230;219;116;48;2;39;40;34m2025-06-24\u001b[0m\u001b[38;2;230;219;116;48;2;39;40;34m\"\u001b[0m\u001b[38;2;248;248;242;48;2;39;40;34m,\u001b[0m\u001b[38;2;248;248;242;48;2;39;40;34m \u001b[0m\u001b[38;2;230;219;116;48;2;39;40;34m\"\u001b[0m\u001b[38;2;230;219;116;48;2;39;40;34m2025-06-25\u001b[0m\u001b[38;2;230;219;116;48;2;39;40;34m\"\u001b[0m\u001b[38;2;248;248;242;48;2;39;40;34m,\u001b[0m\u001b[38;2;248;248;242;48;2;39;40;34m \u001b[0m\u001b[38;2;230;219;116;48;2;39;40;34m\"\u001b[0m\u001b[38;2;230;219;116;48;2;39;40;34m2025-06-26\u001b[0m\u001b[38;2;230;219;116;48;2;39;40;34m\"\u001b[0m\u001b[38;2;248;248;242;48;2;39;40;34m]\u001b[0m\u001b[48;2;39;40;34m                                                             \u001b[0m  \n",
       "  \u001b[38;2;248;248;242;48;2;39;40;34mbudget\u001b[0m\u001b[38;2;248;248;242;48;2;39;40;34m \u001b[0m\u001b[38;2;255;70;137;48;2;39;40;34m=\u001b[0m\u001b[38;2;248;248;242;48;2;39;40;34m \u001b[0m\u001b[38;2;174;129;255;48;2;39;40;34m300\u001b[0m\u001b[48;2;39;40;34m                                                                                                   \u001b[0m  \n",
       "  \u001b[38;2;248;248;242;48;2;39;40;34mgoogle_flights_link\u001b[0m\u001b[38;2;248;248;242;48;2;39;40;34m \u001b[0m\u001b[38;2;255;70;137;48;2;39;40;34m=\u001b[0m\u001b[38;2;248;248;242;48;2;39;40;34m \u001b[0m\u001b[48;2;39;40;34m                                                                                         \u001b[0m  \n",
       "  \u001b[38;2;230;219;116;48;2;39;40;34mf\u001b[0m\u001b[38;2;230;219;116;48;2;39;40;34m\"\u001b[0m\u001b[38;2;230;219;116;48;2;39;40;34mhttps://www.google.com/travel/flights?q=Flights%20from%20Paris%20to%20Barcelona%20from%20\u001b[0m\u001b[38;2;230;219;116;48;2;39;40;34m{\u001b[0m\u001b[38;2;248;248;242;48;2;39;40;34mdates\u001b[0m\u001b[38;2;248;248;242;48;2;39;40;34m[\u001b[0m\u001b[38;2;174;129;255;48;2;39;40;34m0\u001b[0m\u001b[38;2;248;248;242;48;2;39;40;34m]\u001b[0m\u001b[38;2;230;219;116;48;2;39;40;34m}\u001b[0m\u001b[38;2;230;219;116;48;2;39;40;34m%20to%20\u001b[0m\u001b[38;2;230;219;116;48;2;39;40;34m{\u001b[0m\u001b[38;2;248;248;242;48;2;39;40;34md\u001b[0m  \n",
       "  \u001b[38;2;248;248;242;48;2;39;40;34mates\u001b[0m\u001b[38;2;248;248;242;48;2;39;40;34m[\u001b[0m\u001b[38;2;255;70;137;48;2;39;40;34m-\u001b[0m\u001b[38;2;174;129;255;48;2;39;40;34m1\u001b[0m\u001b[38;2;248;248;242;48;2;39;40;34m]\u001b[0m\u001b[38;2;230;219;116;48;2;39;40;34m}\u001b[0m\u001b[38;2;230;219;116;48;2;39;40;34m%20under%20\u001b[0m\u001b[38;2;230;219;116;48;2;39;40;34m{\u001b[0m\u001b[38;2;248;248;242;48;2;39;40;34mbudget\u001b[0m\u001b[38;2;230;219;116;48;2;39;40;34m}\u001b[0m\u001b[38;2;230;219;116;48;2;39;40;34m%20EUR\u001b[0m\u001b[38;2;230;219;116;48;2;39;40;34m\"\u001b[0m\u001b[48;2;39;40;34m                                                                            \u001b[0m  \n",
       "  \u001b[48;2;39;40;34m                                                                                                               \u001b[0m  \n",
       "  \u001b[38;2;248;248;242;48;2;39;40;34mprint\u001b[0m\u001b[38;2;248;248;242;48;2;39;40;34m(\u001b[0m\u001b[38;2;230;219;116;48;2;39;40;34m\"\u001b[0m\u001b[38;2;230;219;116;48;2;39;40;34mDates:\u001b[0m\u001b[38;2;230;219;116;48;2;39;40;34m\"\u001b[0m\u001b[38;2;248;248;242;48;2;39;40;34m,\u001b[0m\u001b[38;2;248;248;242;48;2;39;40;34m \u001b[0m\u001b[38;2;248;248;242;48;2;39;40;34mdates\u001b[0m\u001b[38;2;248;248;242;48;2;39;40;34m)\u001b[0m\u001b[48;2;39;40;34m                                                                                         \u001b[0m  \n",
       "  \u001b[38;2;248;248;242;48;2;39;40;34mprint\u001b[0m\u001b[38;2;248;248;242;48;2;39;40;34m(\u001b[0m\u001b[38;2;230;219;116;48;2;39;40;34m\"\u001b[0m\u001b[38;2;230;219;116;48;2;39;40;34mBudget:\u001b[0m\u001b[38;2;230;219;116;48;2;39;40;34m\"\u001b[0m\u001b[38;2;248;248;242;48;2;39;40;34m,\u001b[0m\u001b[38;2;248;248;242;48;2;39;40;34m \u001b[0m\u001b[38;2;248;248;242;48;2;39;40;34mbudget\u001b[0m\u001b[38;2;248;248;242;48;2;39;40;34m,\u001b[0m\u001b[38;2;248;248;242;48;2;39;40;34m \u001b[0m\u001b[38;2;230;219;116;48;2;39;40;34m\"\u001b[0m\u001b[38;2;230;219;116;48;2;39;40;34meuros\u001b[0m\u001b[38;2;230;219;116;48;2;39;40;34m\"\u001b[0m\u001b[38;2;248;248;242;48;2;39;40;34m)\u001b[0m\u001b[48;2;39;40;34m                                                                              \u001b[0m  \n",
       "  \u001b[38;2;248;248;242;48;2;39;40;34mprint\u001b[0m\u001b[38;2;248;248;242;48;2;39;40;34m(\u001b[0m\u001b[38;2;230;219;116;48;2;39;40;34m\"\u001b[0m\u001b[38;2;230;219;116;48;2;39;40;34mLink:\u001b[0m\u001b[38;2;230;219;116;48;2;39;40;34m\"\u001b[0m\u001b[38;2;248;248;242;48;2;39;40;34m,\u001b[0m\u001b[38;2;248;248;242;48;2;39;40;34m \u001b[0m\u001b[38;2;248;248;242;48;2;39;40;34mgoogle_flights_link\u001b[0m\u001b[38;2;248;248;242;48;2;39;40;34m)\u001b[0m\u001b[48;2;39;40;34m                                                                            \u001b[0m  \n",
       " ───────────────────────────────────────────────────────────────────────────────────────────────────────────────── \n"
      ]
     },
     "metadata": {},
     "output_type": "display_data"
    },
    {
     "data": {
      "text/html": [
       "<pre style=\"white-space:pre;overflow-x:auto;line-height:normal;font-family:Menlo,'DejaVu Sans Mono',consolas,'Courier New',monospace\"><span style=\"font-weight: bold\">Execution logs:</span>\n",
       "Dates: ['2025-06-24', '2025-06-25', '2025-06-26']\n",
       "Budget: 300 euros\n",
       "Link: \n",
       "https://www.google.com/travel/flights?q=Flights%20from%20Paris%20to%20Barcelona%20from%202025-06-24%20to%202025-06-\n",
       "26%20under%20300%20EUR\n",
       "\n",
       "Out: None\n",
       "</pre>\n"
      ],
      "text/plain": [
       "\u001b[1mExecution logs:\u001b[0m\n",
       "Dates: ['2025-06-24', '2025-06-25', '2025-06-26']\n",
       "Budget: 300 euros\n",
       "Link: \n",
       "https://www.google.com/travel/flights?q=Flights%20from%20Paris%20to%20Barcelona%20from%202025-06-24%20to%202025-06-\n",
       "26%20under%20300%20EUR\n",
       "\n",
       "Out: None\n"
      ]
     },
     "metadata": {},
     "output_type": "display_data"
    },
    {
     "data": {
      "text/html": [
       "<pre style=\"white-space:pre;overflow-x:auto;line-height:normal;font-family:Menlo,'DejaVu Sans Mono',consolas,'Courier New',monospace\"><span style=\"color: #7f7f7f; text-decoration-color: #7f7f7f\">[Step 2: Duration 5.52 seconds| Input tokens: 6,807 | Output tokens: 295]</span>\n",
       "</pre>\n"
      ],
      "text/plain": [
       "\u001b[2m[Step 2: Duration 5.52 seconds| Input tokens: 6,807 | Output tokens: 295]\u001b[0m\n"
      ]
     },
     "metadata": {},
     "output_type": "display_data"
    },
    {
     "data": {
      "text/html": [
       "<pre style=\"white-space:pre;overflow-x:auto;line-height:normal;font-family:Menlo,'DejaVu Sans Mono',consolas,'Courier New',monospace\"><span style=\"color: #800000; text-decoration-color: #800000; font-weight: bold\">Reached max steps.</span>\n",
       "</pre>\n"
      ],
      "text/plain": [
       "\u001b[1;31mReached max steps.\u001b[0m\n"
      ]
     },
     "metadata": {},
     "output_type": "display_data"
    },
    {
     "data": {
      "text/html": [
       "<pre style=\"white-space:pre;overflow-x:auto;line-height:normal;font-family:Menlo,'DejaVu Sans Mono',consolas,'Courier New',monospace\"><span style=\"color: #7f7f7f; text-decoration-color: #7f7f7f\">[Step 3: Duration 4.80 seconds| Input tokens: 9,082 | Output tokens: 492]</span>\n",
       "</pre>\n"
      ],
      "text/plain": [
       "\u001b[2m[Step 3: Duration 4.80 seconds| Input tokens: 9,082 | Output tokens: 492]\u001b[0m\n"
      ]
     },
     "metadata": {},
     "output_type": "display_data"
    },
    {
     "data": {
      "text/plain": [
       "'Dates = [\"2025-06-24\", \"2025-06-25\", \"2025-06-26\"],\\nbudget = 300 euros,\\nlink = https://www.google.com/travel/flights?q=Flights%20from%20Paris%20to%20Barcelona%20from%202025-06-24%20to%202025-06-26%20under%20300%20EUR\\n\\nMultiple flight search sources indicate flights between Paris and Barcelona during this period are typically priced around $47-$60 (approximately 40-55 euros), which is well within the specified budget. Airlines like Vueling, Transavia France, and Air France operate this route with multiple daily flights. The flight time is approximately 1 hour 45 minutes, and there are around 70-80 flights per week between these cities in June 2025.'"
      ]
     },
     "execution_count": 27,
     "metadata": {},
     "output_type": "execute_result"
    }
   ],
   "source": [
    "system_prompt = '''\n",
    "You are a helpful assistant tasked with planning travels for user. You should look in google flight for flights corresponding to some constrains. \n",
    "You can navigate a browser using \n",
    "Your output should follow the template\n",
    "Dates = [arrival to destination date - departure from destination date],\n",
    "budget = [budget in euro],\n",
    "link = [link to google flight corresponding to the flight]\n",
    "\n",
    "'''\n",
    "question = 'Find me a flight to barcelona from Paris between the 24 and 26 of june 2025 for a budget less than 300 euros.'\n",
    "flight_agent.run(system_prompt + question)"
   ]
  },
  {
   "cell_type": "markdown",
   "id": "69033a37",
   "metadata": {},
   "source": [
    "Outputs of previous agents\n",
    "---"
   ]
  },
  {
   "cell_type": "code",
   "execution_count": null,
   "id": "76bed947",
   "metadata": {},
   "outputs": [],
   "source": [
    "google_flight_link = 'https://www.google.com/travel/flights/booking?tfs=CBwQAhpKEgoyMDI1LTA2LTIxIiAKA0NERxIKMjAyNS0wNi0yMRoDQkNOKgJWWTIEODI0MWoMCAISCC9tLzA1cXRqcgwIAxIIL20vMDFmNjIaShIKMjAyNS0wNi0yNSIgCgNCQ04SCjIwMjUtMDYtMjUaA0NERyoCVlkyBDgyNDhqDAgDEggvbS8wMWY2MnIMCAISCC9tLzA1cXRqQAFIAXABggELCP___________wGYAQE&tfu=CmxDalJJYmtnNGFrOXpkVmRyUWtsQlRtcExlVkZDUnkwdExTMHRMUzB0TFhkbWFHVTBNVUZCUVVGQlIyaFBjRmR6UzBsWVdFbEJFZ1pXV1RneU5EZ2FDZ2ppU3hBQ0dnTkZWVkk0SEhESFZ3PT0SAggAIgA'"
   ]
  },
  {
   "cell_type": "markdown",
   "id": "ee633db0",
   "metadata": {},
   "source": [
    "Manager agent\n",
    "---"
   ]
  },
  {
   "cell_type": "code",
   "execution_count": null,
   "id": "5607f968",
   "metadata": {},
   "outputs": [],
   "source": [
    "# define all agents\n",
    "# managed_agents = [flight_agent, airbnb_agent, activities_agent]\n",
    "managed_agents = [flight_agent]\n",
    "# final checks\n",
    "\n",
    "# manager agent\n",
    "manager_agent = CodeAgent(\n",
    "    model= LiteLLMModel(model_id = sonnet, api_key=os.environ['CLAUDE_API']),\n",
    "    tools=[],\n",
    "    managed_agents=managed_agents,\n",
    "    additional_authorized_imports=[\n",
    "        \"geopandas\",\n",
    "        \"plotly\",\n",
    "        \"shapely\",\n",
    "        \"json\",\n",
    "        \"pandas\",\n",
    "        \"numpy\",\n",
    "    ],\n",
    "    planning_interval=5,\n",
    "    verbosity_level=2,\n",
    "    # final_answer_checks=[check_reasoning_and_plot],\n",
    "    max_steps=15,\n",
    ")\n"
   ]
  },
  {
   "cell_type": "code",
   "execution_count": null,
   "id": "121c8bfa",
   "metadata": {},
   "outputs": [],
   "source": [
    "manager_system_prompt = '''\n",
    "You are a helful assistant whose mission is to plan travels for users. \n",
    "You can manage 3 agents: \n",
    "a flight agent that can find flights on google flights and outputs the dates, budget and url for booking,\n",
    "an airbnb agent that can find houses on airbnb and outputs the dates budget and url for booking purposes\n",
    "an activities agent that can propose activities and outputs a list of activities\n",
    "\n",
    "Take the inputs of the three agents and combine the outputs into 3 differents travel plans with 3 budget tiers: low cost, medium cost and high cost\n",
    "your output should follow the template:\n",
    "\n",
    "'''\n",
    "\n",
    "task = ''\n",
    "manager_agent.run(manager_system_prompt + task)"
   ]
  }
 ],
 "metadata": {
  "kernelspec": {
   "display_name": "hug_env",
   "language": "python",
   "name": "python3"
  },
  "language_info": {
   "codemirror_mode": {
    "name": "ipython",
    "version": 3
   },
   "file_extension": ".py",
   "mimetype": "text/x-python",
   "name": "python",
   "nbconvert_exporter": "python",
   "pygments_lexer": "ipython3",
   "version": "3.10.18"
  }
 },
 "nbformat": 4,
 "nbformat_minor": 5
}
